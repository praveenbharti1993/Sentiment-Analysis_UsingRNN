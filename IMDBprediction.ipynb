{
 "cells": [
  {
   "cell_type": "code",
   "execution_count": 8,
   "id": "e602ab67-e6de-45ef-87e1-c497183c106c",
   "metadata": {},
   "outputs": [],
   "source": [
    "#loading the required libraries\n",
    "import numpy as np\n",
    "import pandas as pd\n",
    "import tensorflow as tf\n",
    "from tensorflow.keras.datasets import imdb\n",
    "from tensorflow.keras.preprocessing import sequence\n",
    "from tensorflow.keras.models import Sequential\n",
    "from tensorflow.keras.layers import SimpleRNN,Embedding,Dense\n",
    "from tensorflow.keras.callbacks import EarlyStopping\n",
    "from tensorflow.keras.models import load_model"
   ]
  },
  {
   "cell_type": "code",
   "execution_count": 2,
   "id": "365fe23f-5142-48eb-8e78-7bb986526661",
   "metadata": {},
   "outputs": [],
   "source": [
    "word_index=imdb.get_word_index()\n",
    "reverse_word_index={value:key for key,value in word_index.items()}"
   ]
  },
  {
   "cell_type": "code",
   "execution_count": 11,
   "id": "c548dca7-be98-4cd3-88a3-9eb0fe9f38e4",
   "metadata": {},
   "outputs": [
    {
     "name": "stderr",
     "output_type": "stream",
     "text": [
      "WARNING:absl:Compiled the loaded model, but the compiled metrics have yet to be built. `model.compile_metrics` will be empty until you train or evaluate the model.\n"
     ]
    }
   ],
   "source": [
    "#loading the model\n",
    "model=load_model('RNN_Sentiment.h5')"
   ]
  },
  {
   "cell_type": "code",
   "execution_count": 6,
   "id": "c81811be-08be-4279-abf9-5457f056ebbd",
   "metadata": {},
   "outputs": [],
   "source": [
    "#function to decode the review\n",
    "def decode_review(encoded_review):\n",
    "    return (' '.join([reverse_word_index.get(i-3,'?') for i in sample_review]))\n",
    "\n",
    "#function to pre process the user review\n",
    "def preprocess_review(text):\n",
    "    words=text.lower().split()\n",
    "    encoded_review=[word_index.get(word,2)+3 for word in words]\n",
    "    padded_review=sequence.pad_sequences([encoded_review],maxlen=500)\n",
    "    return(padded_review)"
   ]
  },
  {
   "cell_type": "code",
   "execution_count": 13,
   "id": "c9a19caf-b05f-409a-af2b-ff06e01f5c2f",
   "metadata": {},
   "outputs": [],
   "source": [
    "#function to create the prediction fun\n",
    "def predict_sentiment(review):\n",
    "    preprocessed_input=preprocess_review(review)\n",
    "    prediction=model.predict(preprocessed_input)\n",
    "    sentiment='Positive' if prediction[0][0]>0.5 else 'Negative'\n",
    "    return (sentiment,prediction[0][0])"
   ]
  },
  {
   "cell_type": "code",
   "execution_count": 15,
   "id": "3ebe17eb-4a34-494f-9c41-da9e09136225",
   "metadata": {},
   "outputs": [
    {
     "name": "stdout",
     "output_type": "stream",
     "text": [
      "\u001b[1m1/1\u001b[0m \u001b[32m━━━━━━━━━━━━━━━━━━━━\u001b[0m\u001b[37m\u001b[0m \u001b[1m0s\u001b[0m 69ms/step\n",
      "review :This movie was fantastic ! The acting was great and the plot was thrilling.\n",
      "sentiment :Positive\n",
      "score:0.9862222075462341\n"
     ]
    }
   ],
   "source": [
    "#Example review for prediction\n",
    "example_review='This movie was fantastic ! The acting was great and the plot was thrilling.'\n",
    "sentiment,score=predict_sentiment(example_review)\n",
    "print(f'review :{example_review}')\n",
    "print(f'sentiment :{sentiment}')\n",
    "print(f'score:{score}')"
   ]
  },
  {
   "cell_type": "code",
   "execution_count": null,
   "id": "fc8d87b1-89a6-461b-82c4-a24406a74a58",
   "metadata": {},
   "outputs": [],
   "source": []
  },
  {
   "cell_type": "code",
   "execution_count": null,
   "id": "2cdca0fb-069d-4c90-ba86-8336566c8033",
   "metadata": {},
   "outputs": [],
   "source": []
  },
  {
   "cell_type": "code",
   "execution_count": null,
   "id": "6be00322-00df-4b5d-8fce-d39854d2116c",
   "metadata": {},
   "outputs": [],
   "source": []
  },
  {
   "cell_type": "code",
   "execution_count": null,
   "id": "19c3cd46-7929-417a-8b11-23fd7d60de02",
   "metadata": {},
   "outputs": [],
   "source": []
  },
  {
   "cell_type": "code",
   "execution_count": null,
   "id": "870aa66f-3845-4a41-a84e-1b909c1e2afb",
   "metadata": {},
   "outputs": [],
   "source": []
  },
  {
   "cell_type": "code",
   "execution_count": null,
   "id": "b82732ae-9516-4744-8ac5-ff8ffa02bf47",
   "metadata": {},
   "outputs": [],
   "source": []
  },
  {
   "cell_type": "code",
   "execution_count": null,
   "id": "6a862870-b60d-41c7-b69c-5628c1cc4523",
   "metadata": {},
   "outputs": [],
   "source": []
  },
  {
   "cell_type": "code",
   "execution_count": null,
   "id": "a1fa7142-479a-4f74-bd92-3e6d582b6101",
   "metadata": {},
   "outputs": [],
   "source": []
  },
  {
   "cell_type": "code",
   "execution_count": null,
   "id": "65f45a6b-2587-47b5-a524-f97f8f466473",
   "metadata": {},
   "outputs": [],
   "source": []
  }
 ],
 "metadata": {
  "kernelspec": {
   "display_name": "Python 3 (ipykernel)",
   "language": "python",
   "name": "python3"
  },
  "language_info": {
   "codemirror_mode": {
    "name": "ipython",
    "version": 3
   },
   "file_extension": ".py",
   "mimetype": "text/x-python",
   "name": "python",
   "nbconvert_exporter": "python",
   "pygments_lexer": "ipython3",
   "version": "3.9.12"
  }
 },
 "nbformat": 4,
 "nbformat_minor": 5
}
